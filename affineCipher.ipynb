{
  "nbformat": 4,
  "nbformat_minor": 0,
  "metadata": {
    "colab": {
      "provenance": [],
      "authorship_tag": "ABX9TyMkwSkkfdL51E3XGtdZGQ0r",
      "include_colab_link": true
    },
    "kernelspec": {
      "name": "python3",
      "display_name": "Python 3"
    },
    "language_info": {
      "name": "python"
    }
  },
  "cells": [
    {
      "cell_type": "markdown",
      "metadata": {
        "id": "view-in-github",
        "colab_type": "text"
      },
      "source": [
        "<a href=\"https://colab.research.google.com/github/diyagawande/Key-Indicators-of-Heart-Diseases-Analysis/blob/main/affineCipher.ipynb\" target=\"_parent\"><img src=\"https://colab.research.google.com/assets/colab-badge.svg\" alt=\"Open In Colab\"/></a>"
      ]
    },
    {
      "cell_type": "code",
      "execution_count": null,
      "metadata": {
        "id": "ymav6a6Trt--"
      },
      "outputs": [],
      "source": [
        "# Diya Gawande\n",
        "# 3/3/2025\n",
        "\n",
        "import random\n",
        "\n",
        "\n",
        "# Function to find modular inverse\n",
        "def mod_inverse(a, m):\n",
        "    for x in range(1, m):\n",
        "        if (a * x) % m == 1:\n",
        "            return x\n",
        "    return None\n",
        "\n",
        "\n",
        "# Function to encrypt the message\n",
        "def affine_encrypt(message, key):\n",
        "    a, b = key\n",
        "    encrypted_message = \"\"\n",
        "    for char in message:\n",
        "        if char.isalpha():\n",
        "            if char.isupper():\n",
        "                encrypted_message += chr(((a * (ord(char) - ord('A')) + b) % 26) + ord('A'))\n",
        "            else:\n",
        "                encrypted_message += chr(((a * (ord(char) - ord('a')) + b) % 26) + ord('a'))\n",
        "        else:\n",
        "            encrypted_message += char\n",
        "    return encrypted_message\n",
        "\n",
        "\n",
        "# Function to decrypt the message\n",
        "def affine_decrypt(message, key):\n",
        "    a, b = key\n",
        "    a_inv = mod_inverse(a, 26)\n",
        "    if a_inv is None:\n",
        "        raise ValueError(\"Invalid key: 'a' has no modular inverse.\")\n",
        "\n",
        "    decrypted_message = \"\"\n",
        "    for char in message:\n",
        "        if char.isalpha():\n",
        "            if char.isupper():\n",
        "                decrypted_message += chr(((a_inv * ((ord(char) - ord('A')) - b)) % 26) + ord('A'))\n",
        "            else:\n",
        "                decrypted_message += chr(((a_inv * ((ord(char) - ord('a')) - b)) % 26) + ord('a'))\n",
        "        else:\n",
        "            decrypted_message += char\n",
        "    return decrypted_message\n",
        "\n",
        "\n",
        "# Main function to prompt user and perform encryption/decryption\n",
        "def main():\n",
        "    choice = input(\"Select Encrypt (E) or Decrypt (D): \").upper()\n",
        "    if choice not in ['E', 'D']:\n",
        "        print(\"Invalid choice. Please select 'E' for Encrypt or 'D' for Decrypt.\")\n",
        "        return\n",
        "\n",
        "    message = input(\"Enter the message: \")\n",
        "\n",
        "    key_choice = input(\"Enter key (format: a,b) or type 'random' for a random key: \").lower()\n",
        "    if key_choice == 'random':\n",
        "        a = random.choice([i for i in range(1, 26) if mod_inverse(i, 26) is not None])\n",
        "        b = random.randint(0, 25)\n",
        "        key = (a, b)\n",
        "        print(f\"Randomly generated key: {key}\")\n",
        "    else:\n",
        "        try:\n",
        "            a, b = map(int, key_choice.split(','))\n",
        "            key = (a, b)\n",
        "        except ValueError:\n",
        "            print(\"Invalid key format. Please enter the key as 'a,b'.\")\n",
        "            return\n",
        "\n",
        "    if choice == 'E':\n",
        "        result = affine_encrypt(message, key)\n",
        "        print(f\"Encrypted message: {result}\")\n",
        "    else:\n",
        "        try:\n",
        "            result = affine_decrypt(message, key)\n",
        "            print(f\"Decrypted message: {result}\")\n",
        "        except ValueError as e:\n",
        "            print(e)\n",
        "\n",
        "\n",
        "if __name__ == \"__main__\":\n",
        "    main()\n"
      ]
    }
  ]
}